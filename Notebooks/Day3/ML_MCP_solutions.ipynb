{
 "cells": [
  {
   "cell_type": "markdown",
   "metadata": {},
   "source": [
    "# Hands-on Day 2\n",
    "\n",
    "- course [slides](https://github.com/Course-bigDataAndML/MLCourse-2223/blob/master/Slides/Day2/Big%20data%20science%20-%20Day%202%20-%202223.pdf)\n",
    "\n",
    "\n",
    "# You'll learn\n",
    "\n",
    "## ML methods\n",
    "\n",
    "- Multilayer Perceptron Classifier (MCP) with pyspark.ml\n",
    "\n",
    "## ML techniques\n",
    "- hyperparameter optimisation\n",
    "- ROC curves"
   ]
  },
  {
   "cell_type": "code",
   "execution_count": 8,
   "metadata": {
    "execution": {
     "iopub.execute_input": "2023-06-06T15:25:25.828850Z",
     "iopub.status.busy": "2023-06-06T15:25:25.828222Z",
     "iopub.status.idle": "2023-06-06T15:25:25.904363Z",
     "shell.execute_reply": "2023-06-06T15:25:25.902679Z",
     "shell.execute_reply.started": "2023-06-06T15:25:25.828780Z"
    },
    "tags": []
   },
   "outputs": [
    {
     "name": "stdout",
     "output_type": "stream",
     "text": [
      "The autoreload extension is already loaded. To reload it, use:\n",
      "  %reload_ext autoreload\n"
     ]
    }
   ],
   "source": [
    "#initial imports\n",
    "%reload_ext custom_magics\n",
    "%load_ext autoreload\n",
    "%autoreload 2\n",
    "\n",
    "# initial setup\n",
    "import pandas as pd\n",
    "import numpy as np\n",
    "import matplotlib.pyplot as plt\n",
    "%matplotlib inline\n",
    "\n",
    "# Check out these custom functions\n",
    "from custom_functions import *"
   ]
  },
  {
   "cell_type": "code",
   "execution_count": 9,
   "metadata": {
    "execution": {
     "iopub.execute_input": "2023-06-06T15:25:25.908632Z",
     "iopub.status.busy": "2023-06-06T15:25:25.908025Z",
     "iopub.status.idle": "2023-06-06T15:25:43.153214Z",
     "shell.execute_reply": "2023-06-06T15:25:43.152443Z",
     "shell.execute_reply.started": "2023-06-06T15:25:25.908567Z"
    },
    "tags": []
   },
   "outputs": [
    {
     "data": {
      "text/html": [
       "\n",
       "        <div>\n",
       "            <p><b>SparkContext</b></p>\n",
       "\n",
       "            <p><a href=\"http://jupyter-leggerf.jhub.svc.cluster.local:4040\">Spark UI</a></p>\n",
       "\n",
       "            <dl>\n",
       "              <dt>Version</dt>\n",
       "                <dd><code>v3.2.1</code></dd>\n",
       "              <dt>Master</dt>\n",
       "                <dd><code>k8s://https://192.168.2.39:6443</code></dd>\n",
       "              <dt>AppName</dt>\n",
       "                <dd><code>jupyter-leggerf</code></dd>\n",
       "            </dl>\n",
       "        </div>\n",
       "        "
      ],
      "text/plain": [
       "<SparkContext master=k8s://https://192.168.2.39:6443 appName=jupyter-leggerf>"
      ]
     },
     "execution_count": 9,
     "metadata": {},
     "output_type": "execute_result"
    }
   ],
   "source": [
    "num_workers=5\n",
    "spark=%sc $num_workers\n",
    "\n",
    "from pyspark.sql import SparkSession\n",
    "spark_session = SparkSession(spark)\n",
    "\n",
    "#check if spark is there\n",
    "spark"
   ]
  },
  {
   "cell_type": "markdown",
   "metadata": {},
   "source": [
    "# Data preprocessing"
   ]
  },
  {
   "cell_type": "code",
   "execution_count": 10,
   "metadata": {
    "execution": {
     "iopub.execute_input": "2023-06-06T15:25:43.155074Z",
     "iopub.status.busy": "2023-06-06T15:25:43.154879Z",
     "iopub.status.idle": "2023-06-06T15:25:49.290921Z",
     "shell.execute_reply": "2023-06-06T15:25:49.289560Z",
     "shell.execute_reply.started": "2023-06-06T15:25:43.155052Z"
    },
    "tags": []
   },
   "outputs": [
    {
     "name": "stdout",
     "output_type": "stream",
     "text": [
      "There are 9560096 events\n"
     ]
    }
   ],
   "source": [
    "# read in input data\n",
    "\n",
    "#inputFile = 'hdfs://192.168.2.39/data/Higgs100k.parquet'\n",
    "#inputFile = 'hdfs://192.168.2.39/data/Higgs1M.parquet'\n",
    "inputFile = 'hdfs://192.168.2.39/data/Higgs10M.parquet'\n",
    "\n",
    "df = spark_session.read.format('parquet').option('header', 'true').option('inferschema', 'true').load(inputFile)\n",
    "\n",
    "total_events = df.count()\n",
    "print('There are '+str(total_events)+' events')"
   ]
  },
  {
   "cell_type": "code",
   "execution_count": 11,
   "metadata": {
    "execution": {
     "iopub.execute_input": "2023-06-06T15:25:49.293622Z",
     "iopub.status.busy": "2023-06-06T15:25:49.293026Z",
     "iopub.status.idle": "2023-06-06T15:25:57.999968Z",
     "shell.execute_reply": "2023-06-06T15:25:57.998375Z",
     "shell.execute_reply.started": "2023-06-06T15:25:49.293558Z"
    },
    "tags": []
   },
   "outputs": [
    {
     "name": "stdout",
     "output_type": "stream",
     "text": [
      "Events for training 7648540\n",
      "Events for validation 1911556\n"
     ]
    }
   ],
   "source": [
    "#split the dataset for training and test\n",
    "train, test = df.randomSplit([0.8,0.2])\n",
    "\n",
    "print('Events for training {}'.format(train.count()))\n",
    "print('Events for validation {}'.format(test.count()))"
   ]
  },
  {
   "cell_type": "code",
   "execution_count": 12,
   "metadata": {
    "execution": {
     "iopub.execute_input": "2023-06-06T15:25:58.004552Z",
     "iopub.status.busy": "2023-06-06T15:25:58.004025Z",
     "iopub.status.idle": "2023-06-06T15:25:58.164486Z",
     "shell.execute_reply": "2023-06-06T15:25:58.162936Z",
     "shell.execute_reply.started": "2023-06-06T15:25:58.004472Z"
    },
    "tags": []
   },
   "outputs": [],
   "source": [
    "# create the input feature vector \n",
    "feature = train.columns\n",
    "feature.remove('label')\n",
    "\n",
    "from pyspark.ml.feature import VectorAssembler\n",
    "\n",
    "#VectorAssembler is a transformer that combines a given list of columns into a single vector column\n",
    "assembler = VectorAssembler(inputCols=feature, outputCol='features')\n",
    "train = assembler.transform(train)\n",
    "test = assembler.transform(test)"
   ]
  },
  {
   "cell_type": "markdown",
   "metadata": {},
   "source": [
    "# Exercise 1\n",
    "\n",
    "- Implement a shallow NN: use *MultiLayerPerceptronClassifier* from pyspark\n",
    "- documentation: https://spark.apache.org/docs/latest/ml-classification-regression.html#multilayer-perceptron-classifier\n",
    "- implement a network with: \n",
    "  - one input layer of size 28 (our features), \n",
    "  - two intermediate layers of size 30,\n",
    "  - one output of size 2 (the label classes)\n",
    "  - other hyerparameters: maxIter=100, blockSize=128, seed=1234\n",
    "- plot the various metrics (ROC, signal vs background)\n",
    "- bonus: do hyperparameter optimisation"
   ]
  },
  {
   "cell_type": "code",
   "execution_count": 13,
   "metadata": {
    "execution": {
     "iopub.execute_input": "2023-06-06T15:25:58.167322Z",
     "iopub.status.busy": "2023-06-06T15:25:58.166845Z",
     "iopub.status.idle": "2023-06-06T15:25:58.248796Z",
     "shell.execute_reply": "2023-06-06T15:25:58.247469Z",
     "shell.execute_reply.started": "2023-06-06T15:25:58.167261Z"
    },
    "tags": []
   },
   "outputs": [],
   "source": [
    "from pyspark.ml.classification import MultilayerPerceptronClassifier\n",
    "\n",
    "# specify layers for the neural network:\n",
    "\n",
    "# input layer of size 28 (features), two intermediate of size 30, and output of size 2 (classes)\n",
    "layers = [28, 30, 30, 2]\n",
    "\n",
    "# create the trainer and set its parameters\n",
    "mpc = MultilayerPerceptronClassifier(labelCol='label', featuresCol='features', maxIter=100, layers=layers, blockSize=128, seed=1234)"
   ]
  },
  {
   "cell_type": "code",
   "execution_count": 14,
   "metadata": {
    "execution": {
     "iopub.execute_input": "2023-06-06T15:25:58.250365Z",
     "iopub.status.busy": "2023-06-06T15:25:58.250108Z",
     "iopub.status.idle": "2023-06-06T15:29:15.403378Z",
     "shell.execute_reply": "2023-06-06T15:29:15.391971Z",
     "shell.execute_reply.started": "2023-06-06T15:25:58.250333Z"
    },
    "tags": []
   },
   "outputs": [
    {
     "name": "stdout",
     "output_type": "stream",
     "text": [
      "CPU times: user 12.1 s, sys: 2.9 s, total: 15 s\n",
      "Wall time: 3min 17s\n"
     ]
    }
   ],
   "source": [
    "%%time\n",
    "model_mpc = mpc.fit(train)"
   ]
  },
  {
   "cell_type": "code",
   "execution_count": 15,
   "metadata": {
    "execution": {
     "iopub.execute_input": "2023-06-06T15:29:15.413968Z",
     "iopub.status.busy": "2023-06-06T15:29:15.412739Z",
     "iopub.status.idle": "2023-06-06T15:30:29.645785Z",
     "shell.execute_reply": "2023-06-06T15:30:29.645191Z",
     "shell.execute_reply.started": "2023-06-06T15:29:15.413895Z"
    },
    "tags": []
   },
   "outputs": [
    {
     "name": "stdout",
     "output_type": "stream",
     "text": [
      "Test set AUC = 0.7331310119038121\n"
     ]
    },
    {
     "name": "stderr",
     "output_type": "stream",
     "text": [
      "IOPub message rate exceeded.\n",
      "The Jupyter server will temporarily stop sending output\n",
      "to the client in order to avoid crashing it.\n",
      "To change this limit, set the config variable\n",
      "`--ServerApp.iopub_msg_rate_limit`.\n",
      "\n",
      "Current values:\n",
      "ServerApp.iopub_msg_rate_limit=1000.0 (msgs/sec)\n",
      "ServerApp.rate_limit_window=3.0 (secs)\n",
      "\n"
     ]
    },
    {
     "data": {
      "image/png": "[encoded data removed]",
      "text/plain": [
       "<Figure size 432x288 with 1 Axes>"
      ]
     },
     "metadata": {
      "needs_background": "light"
     },
     "output_type": "display_data"
    }
   ],
   "source": [
    "# compute accuracy on the test set\n",
    "from pyspark.ml.evaluation import BinaryClassificationEvaluator\n",
    "\n",
    "result = model_mpc.transform(test)\n",
    "evaluator = BinaryClassificationEvaluator(labelCol='label', metricName=\"areaUnderROC\")\n",
    "print(\"Test set AUC = \" + str(evaluator.evaluate(result)))\n",
    "\n",
    "#make ROC curve\n",
    "drawROC(result)"
   ]
  },
  {
   "cell_type": "code",
   "execution_count": 16,
   "metadata": {
    "execution": {
     "iopub.execute_input": "2023-06-06T15:30:29.647160Z",
     "iopub.status.busy": "2023-06-06T15:30:29.646905Z",
     "iopub.status.idle": "2023-06-06T15:31:00.168146Z",
     "shell.execute_reply": "2023-06-06T15:31:00.166577Z",
     "shell.execute_reply.started": "2023-06-06T15:30:29.647137Z"
    },
    "tags": []
   },
   "outputs": [
    {
     "data": {
      "image/png": "[encoded data removed]",
      "text/plain": [
       "<Figure size 432x288 with 1 Axes>"
      ]
     },
     "metadata": {
      "needs_background": "light"
     },
     "output_type": "display_data"
    }
   ],
   "source": [
    "#plot signal vs background with prediction\n",
    "plotSignalvsBgWithPrediction(test, result, 'm_bb')"
   ]
  },
  {
   "cell_type": "code",
   "execution_count": 17,
   "metadata": {
    "execution": {
     "iopub.execute_input": "2023-06-06T15:31:00.170785Z",
     "iopub.status.busy": "2023-06-06T15:31:00.170501Z",
     "iopub.status.idle": "2023-06-06T15:31:03.554235Z",
     "shell.execute_reply": "2023-06-06T15:31:03.552457Z",
     "shell.execute_reply.started": "2023-06-06T15:31:00.170754Z"
    },
    "tags": []
   },
   "outputs": [],
   "source": [
    "#when you're done, stop spark, this will release the resources you're using\n",
    "spark.stop()"
   ]
  }
 ],
 "metadata": {
  "kernelspec": {
   "display_name": "PySpark",
   "language": "python",
   "name": "pyspark"
  },
  "language_info": {
   "codemirror_mode": {
    "name": "ipython",
    "version": 3
   },
   "file_extension": ".py",
   "mimetype": "text/x-python",
   "name": "python",
   "nbconvert_exporter": "python",
   "pygments_lexer": "ipython3",
   "version": "3.9.7"
  },
  "sparkconnect": {
   "bundled_options": [],
   "list_of_options": []
  }
 },
 "nbformat": 4,
 "nbformat_minor": 4
}
