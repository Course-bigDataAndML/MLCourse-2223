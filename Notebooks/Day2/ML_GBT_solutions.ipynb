{
 "cells": [
  {
   "cell_type": "markdown",
   "metadata": {},
   "source": [
    "# Hands-on Day 2\n",
    "\n",
    "- course [slides](https://github.com/Course-bigDataAndML/MLCourse-2223/blob/master/Slides/Day2/Big%20data%20science%20-%20Day%202%20-%202223.pdf)\n",
    "\n",
    "\n",
    "# You'll learn\n",
    "\n",
    "## ML methods\n",
    "- Gradient Boosting Trees with pyspark.ml\n",
    "\n",
    "## ML techniques\n",
    "- hyperparameter optimisation\n",
    "- ROC curves"
   ]
  },
  {
   "cell_type": "code",
   "execution_count": 1,
   "metadata": {
    "execution": {
     "iopub.execute_input": "2023-06-06T14:13:17.939734Z",
     "iopub.status.busy": "2023-06-06T14:13:17.938768Z",
     "iopub.status.idle": "2023-06-06T14:13:19.014472Z",
     "shell.execute_reply": "2023-06-06T14:13:19.012962Z",
     "shell.execute_reply.started": "2023-06-06T14:13:17.939376Z"
    },
    "tags": []
   },
   "outputs": [],
   "source": [
    "#initial imports\n",
    "%reload_ext custom_magics\n",
    "%load_ext autoreload\n",
    "%autoreload 2\n",
    "\n",
    "# initial setup\n",
    "import pandas as pd\n",
    "import numpy as np\n",
    "import matplotlib.pyplot as plt\n",
    "\n",
    "%matplotlib inline\n",
    "\n",
    "# Check out these custom functions\n",
    "from custom_functions import *"
   ]
  },
  {
   "cell_type": "code",
   "execution_count": 2,
   "metadata": {
    "execution": {
     "iopub.execute_input": "2023-06-06T14:13:19.017160Z",
     "iopub.status.busy": "2023-06-06T14:13:19.016822Z",
     "iopub.status.idle": "2023-06-06T14:13:40.733454Z",
     "shell.execute_reply": "2023-06-06T14:13:40.732622Z",
     "shell.execute_reply.started": "2023-06-06T14:13:19.017118Z"
    },
    "tags": []
   },
   "outputs": [
    {
     "data": {
      "text/html": [
       "\n",
       "        <div>\n",
       "            <p><b>SparkContext</b></p>\n",
       "\n",
       "            <p><a href=\"http://jupyter-leggerf.jhub.svc.cluster.local:4040\">Spark UI</a></p>\n",
       "\n",
       "            <dl>\n",
       "              <dt>Version</dt>\n",
       "                <dd><code>v3.2.1</code></dd>\n",
       "              <dt>Master</dt>\n",
       "                <dd><code>k8s://https://192.168.2.39:6443</code></dd>\n",
       "              <dt>AppName</dt>\n",
       "                <dd><code>jupyter-leggerf</code></dd>\n",
       "            </dl>\n",
       "        </div>\n",
       "        "
      ],
      "text/plain": [
       "<SparkContext master=k8s://https://192.168.2.39:6443 appName=jupyter-leggerf>"
      ]
     },
     "execution_count": 2,
     "metadata": {},
     "output_type": "execute_result"
    }
   ],
   "source": [
    "num_workers=5\n",
    "spark=%sc $num_workers\n",
    "\n",
    "from pyspark.sql import SparkSession\n",
    "spark_session = SparkSession(spark)\n",
    "\n",
    "#check if spark is there\n",
    "spark"
   ]
  },
  {
   "cell_type": "markdown",
   "metadata": {},
   "source": [
    "# Data preprocessing"
   ]
  },
  {
   "cell_type": "code",
   "execution_count": 3,
   "metadata": {
    "execution": {
     "iopub.execute_input": "2023-06-06T14:13:40.735556Z",
     "iopub.status.busy": "2023-06-06T14:13:40.735153Z",
     "iopub.status.idle": "2023-06-06T14:13:52.674151Z",
     "shell.execute_reply": "2023-06-06T14:13:52.673244Z",
     "shell.execute_reply.started": "2023-06-06T14:13:40.735501Z"
    },
    "tags": []
   },
   "outputs": [
    {
     "name": "stdout",
     "output_type": "stream",
     "text": [
      "There are 9560096 events\n"
     ]
    }
   ],
   "source": [
    "# read in input data\n",
    "\n",
    "#inputFile = 'hdfs://192.168.2.39/data/Higgs100k.parquet'\n",
    "#inputFile = 'hdfs://192.168.2.39/data/Higgs1M.parquet'\n",
    "inputFile = 'hdfs://192.168.2.39/data/Higgs10M.parquet'\n",
    "\n",
    "df = spark_session.read.format('parquet').option('header', 'true').option('inferschema', 'true').load(inputFile)\n",
    "\n",
    "total_events = df.count()\n",
    "print('There are '+str(total_events)+' events')"
   ]
  },
  {
   "cell_type": "markdown",
   "metadata": {},
   "source": [
    "#  Exercise 1\n",
    "\n",
    "- split the dataframe *df* into two dataframes, called *train* and *test* containing respectively 80% and 20% of the events (randomly distributed between the two samples) "
   ]
  },
  {
   "cell_type": "code",
   "execution_count": 4,
   "metadata": {
    "execution": {
     "iopub.execute_input": "2023-06-06T14:13:52.677349Z",
     "iopub.status.busy": "2023-06-06T14:13:52.676637Z",
     "iopub.status.idle": "2023-06-06T14:13:59.993234Z",
     "shell.execute_reply": "2023-06-06T14:13:59.991993Z",
     "shell.execute_reply.started": "2023-06-06T14:13:52.677227Z"
    },
    "tags": []
   },
   "outputs": [
    {
     "name": "stdout",
     "output_type": "stream",
     "text": [
      "Events for training 7648925\n",
      "Events for validation 1911171\n"
     ]
    }
   ],
   "source": [
    "#split the dataset for training and test\n",
    "train, test = df.randomSplit([0.8,0.2])\n",
    "\n",
    "print('Events for training {}'.format(train.count()))\n",
    "print('Events for validation {}'.format(test.count()))"
   ]
  },
  {
   "cell_type": "markdown",
   "metadata": {},
   "source": [
    "#### Create the input feature vector - remember, this was part of yesterday hands-on (bonus)\n",
    "\n",
    "- Libraries for ML tipically take as inputs data in a very specific format. Documentation on how to do data preprocessing in Spark: https://spark.apache.org/docs/latest/ml-features.html\n",
    "- Try to add to the dataframe *train* a new column, called 'features' which is a vector column with all the variables above except for 'label'\n",
    "   - features = [lepton_pT, lepton_eta, lepton_phi, ...]\n",
    "   - Hint: look at the VectorAssembler transformer\n",
    "- do the same for dataframe *test*"
   ]
  },
  {
   "cell_type": "code",
   "execution_count": 5,
   "metadata": {
    "execution": {
     "iopub.execute_input": "2023-06-06T14:13:59.995295Z",
     "iopub.status.busy": "2023-06-06T14:13:59.994965Z",
     "iopub.status.idle": "2023-06-06T14:14:00.333177Z",
     "shell.execute_reply": "2023-06-06T14:14:00.331993Z",
     "shell.execute_reply.started": "2023-06-06T14:13:59.995250Z"
    },
    "tags": []
   },
   "outputs": [],
   "source": [
    "# create the input feature vector \n",
    "feature = train.columns\n",
    "feature.remove('label')\n",
    "\n",
    "from pyspark.ml.feature import VectorAssembler\n",
    "\n",
    "#VectorAssembler is a transformer that combines a given list of columns into a single vector column\n",
    "assembler = VectorAssembler(inputCols=feature, outputCol='features')\n",
    "train = assembler.transform(train)\n",
    "test = assembler.transform(test)"
   ]
  },
  {
   "cell_type": "markdown",
   "metadata": {},
   "source": [
    "# ML models: GBT"
   ]
  },
  {
   "cell_type": "code",
   "execution_count": 6,
   "metadata": {
    "execution": {
     "iopub.execute_input": "2023-06-06T14:14:00.335339Z",
     "iopub.status.busy": "2023-06-06T14:14:00.335004Z",
     "iopub.status.idle": "2023-06-06T14:14:00.507208Z",
     "shell.execute_reply": "2023-06-06T14:14:00.505976Z",
     "shell.execute_reply.started": "2023-06-06T14:14:00.335295Z"
    },
    "tags": []
   },
   "outputs": [],
   "source": [
    "# ML model: GBT (Gradient Boosting Trees)\n",
    "# Documentation at https://spark.apache.org/docs/2.2.0/ml-classification-regression.html\n",
    "from pyspark.ml.classification import GBTClassifier\n",
    "\n",
    "# slow, 10-20 minutes training time \n",
    "gbt = GBTClassifier(labelCol='label', featuresCol='features', maxIter=50, maxDepth=10) #slow\n",
    "\n",
    "# fast, about 1m to train\n",
    "#gbt = GBTClassifier(labelCol='label', featuresCol='features', maxIter=10, maxDepth=3) "
   ]
  },
  {
   "cell_type": "code",
   "execution_count": 7,
   "metadata": {
    "execution": {
     "iopub.execute_input": "2023-06-06T14:14:00.508797Z",
     "iopub.status.busy": "2023-06-06T14:14:00.508434Z",
     "iopub.status.idle": "2023-06-06T14:53:39.380726Z",
     "shell.execute_reply": "2023-06-06T14:53:39.379764Z",
     "shell.execute_reply.started": "2023-06-06T14:14:00.508769Z"
    },
    "tags": []
   },
   "outputs": [
    {
     "name": "stderr",
     "output_type": "stream",
     "text": [
      "IOPub message rate exceeded.\n",
      "The Jupyter server will temporarily stop sending output\n",
      "to the client in order to avoid crashing it.\n",
      "To change this limit, set the config variable\n",
      "`--ServerApp.iopub_msg_rate_limit`.\n",
      "\n",
      "Current values:\n",
      "ServerApp.iopub_msg_rate_limit=1000.0 (msgs/sec)\n",
      "ServerApp.rate_limit_window=3.0 (secs)\n",
      "\n"
     ]
    },
    {
     "name": "stdout",
     "output_type": "stream",
     "text": [
      "CPU times: user 2min 19s, sys: 35.8 s, total: 2min 55s\n",
      "Wall time: 39min 38s\n"
     ]
    }
   ],
   "source": [
    "%%time\n",
    "gbt_model = gbt.fit(train)"
   ]
  },
  {
   "cell_type": "code",
   "execution_count": 8,
   "metadata": {
    "execution": {
     "iopub.execute_input": "2023-06-06T14:53:39.382860Z",
     "iopub.status.busy": "2023-06-06T14:53:39.382644Z",
     "iopub.status.idle": "2023-06-06T14:53:53.743142Z",
     "shell.execute_reply": "2023-06-06T14:53:53.741216Z",
     "shell.execute_reply.started": "2023-06-06T14:53:39.382837Z"
    },
    "tags": []
   },
   "outputs": [
    {
     "name": "stdout",
     "output_type": "stream",
     "text": [
      "Test set AUC = 0.8216889240765477\n"
     ]
    }
   ],
   "source": [
    "# compute AUC on the test set\n",
    "result = gbt_model.transform(test)\n",
    "\n",
    "from pyspark.ml.evaluation import BinaryClassificationEvaluator\n",
    "evaluator = BinaryClassificationEvaluator(labelCol='label', metricName=\"areaUnderROC\")\n",
    "print(\"Test set AUC = \" + str(evaluator.evaluate(result)))"
   ]
  },
  {
   "cell_type": "code",
   "execution_count": 9,
   "metadata": {
    "execution": {
     "iopub.execute_input": "2023-06-06T14:53:53.747622Z",
     "iopub.status.busy": "2023-06-06T14:53:53.746872Z",
     "iopub.status.idle": "2023-06-06T14:54:34.027892Z",
     "shell.execute_reply": "2023-06-06T14:54:34.026679Z",
     "shell.execute_reply.started": "2023-06-06T14:53:53.747492Z"
    },
    "tags": []
   },
   "outputs": [
    {
     "name": "stdout",
     "output_type": "stream",
     "text": [
      "AUC: 0.822\n",
      "+-----+----------+------+\n",
      "|label|prediction| count|\n",
      "+-----+----------+------+\n",
      "|  1.0|       1.0|771940|\n",
      "|  0.0|       1.0|259111|\n",
      "|  1.0|       0.0|239267|\n",
      "|  0.0|       0.0|640853|\n",
      "+-----+----------+------+\n",
      "\n",
      "n precision: 0.749\n",
      "n recall: 0.763\n",
      "n accuracy: 0.739\n",
      "n F1 score: 0.756\n"
     ]
    }
   ],
   "source": [
    "#print metrics\n",
    "printMetrics(evaluator, result)"
   ]
  },
  {
   "cell_type": "code",
   "execution_count": 10,
   "metadata": {
    "execution": {
     "iopub.execute_input": "2023-06-06T14:54:34.032378Z",
     "iopub.status.busy": "2023-06-06T14:54:34.032093Z",
     "iopub.status.idle": "2023-06-06T14:54:34.063969Z",
     "shell.execute_reply": "2023-06-06T14:54:34.063356Z",
     "shell.execute_reply.started": "2023-06-06T14:54:34.032343Z"
    },
    "tags": []
   },
   "outputs": [
    {
     "data": {
      "text/plain": [
       "{Param(parent='GBTClassifier_1d0f4137c0ef', name='cacheNodeIds', doc='If false, the algorithm will pass trees to executors to match instances with nodes. If true, the algorithm will cache node IDs for each instance. Caching can speed up training of deeper trees. Users can set how often should the cache be checkpointed or disable it by setting checkpointInterval.'): False,\n",
       " Param(parent='GBTClassifier_1d0f4137c0ef', name='checkpointInterval', doc='set checkpoint interval (>= 1) or disable checkpoint (-1). E.g. 10 means that the cache will get checkpointed every 10 iterations. Note: this setting will be ignored if the checkpoint directory is not set in the SparkContext.'): 10,\n",
       " Param(parent='GBTClassifier_1d0f4137c0ef', name='featureSubsetStrategy', doc=\"The number of features to consider for splits at each tree node. Supported options: 'auto' (choose automatically for task: If numTrees == 1, set to 'all'. If numTrees > 1 (forest), set to 'sqrt' for classification and to 'onethird' for regression), 'all' (use all features), 'onethird' (use 1/3 of the features), 'sqrt' (use sqrt(number of features)), 'log2' (use log2(number of features)), 'n' (when n is in the range (0, 1.0], use n * number of features. When n is in the range (1, number of features), use n features). default = 'auto'\"): 'all',\n",
       " Param(parent='GBTClassifier_1d0f4137c0ef', name='featuresCol', doc='features column name.'): 'features',\n",
       " Param(parent='GBTClassifier_1d0f4137c0ef', name='impurity', doc='Criterion used for information gain calculation (case-insensitive). Supported options: variance'): 'variance',\n",
       " Param(parent='GBTClassifier_1d0f4137c0ef', name='labelCol', doc='label column name.'): 'label',\n",
       " Param(parent='GBTClassifier_1d0f4137c0ef', name='leafCol', doc='Leaf indices column name. Predicted leaf index of each instance in each tree by preorder.'): '',\n",
       " Param(parent='GBTClassifier_1d0f4137c0ef', name='lossType', doc='Loss function which GBT tries to minimize (case-insensitive). Supported options: logistic'): 'logistic',\n",
       " Param(parent='GBTClassifier_1d0f4137c0ef', name='maxBins', doc='Max number of bins for discretizing continuous features.  Must be >=2 and >= number of categories for any categorical feature.'): 32,\n",
       " Param(parent='GBTClassifier_1d0f4137c0ef', name='maxDepth', doc='Maximum depth of the tree. (>= 0) E.g., depth 0 means 1 leaf node; depth 1 means 1 internal node + 2 leaf nodes.'): 10,\n",
       " Param(parent='GBTClassifier_1d0f4137c0ef', name='maxIter', doc='max number of iterations (>= 0).'): 50,\n",
       " Param(parent='GBTClassifier_1d0f4137c0ef', name='maxMemoryInMB', doc='Maximum memory in MB allocated to histogram aggregation. If too small, then 1 node will be split per iteration, and its aggregates may exceed this size.'): 256,\n",
       " Param(parent='GBTClassifier_1d0f4137c0ef', name='minInfoGain', doc='Minimum information gain for a split to be considered at a tree node.'): 0.0,\n",
       " Param(parent='GBTClassifier_1d0f4137c0ef', name='minInstancesPerNode', doc='Minimum number of instances each child must have after split. If a split causes the left or right child to have fewer than minInstancesPerNode, the split will be discarded as invalid. Should be >= 1.'): 1,\n",
       " Param(parent='GBTClassifier_1d0f4137c0ef', name='minWeightFractionPerNode', doc='Minimum fraction of the weighted sample count that each child must have after split. If a split causes the fraction of the total weight in the left or right child to be less than minWeightFractionPerNode, the split will be discarded as invalid. Should be in interval [0.0, 0.5).'): 0.0,\n",
       " Param(parent='GBTClassifier_1d0f4137c0ef', name='predictionCol', doc='prediction column name.'): 'prediction',\n",
       " Param(parent='GBTClassifier_1d0f4137c0ef', name='probabilityCol', doc='Column name for predicted class conditional probabilities. Note: Not all models output well-calibrated probability estimates! These probabilities should be treated as confidences, not precise probabilities.'): 'probability',\n",
       " Param(parent='GBTClassifier_1d0f4137c0ef', name='rawPredictionCol', doc='raw prediction (a.k.a. confidence) column name.'): 'rawPrediction',\n",
       " Param(parent='GBTClassifier_1d0f4137c0ef', name='seed', doc='random seed.'): -7389932349199385338,\n",
       " Param(parent='GBTClassifier_1d0f4137c0ef', name='stepSize', doc='Step size (a.k.a. learning rate) in interval (0, 1] for shrinking the contribution of each estimator.'): 0.1,\n",
       " Param(parent='GBTClassifier_1d0f4137c0ef', name='subsamplingRate', doc='Fraction of the training data used for learning each decision tree, in range (0, 1].'): 1.0,\n",
       " Param(parent='GBTClassifier_1d0f4137c0ef', name='validationTol', doc='Threshold for stopping early when fit with validation is used. If the error rate on the validation input changes by less than the validationTol, then learning will stop early (before `maxIter`). This parameter is ignored when fit without validation is used.'): 0.01}"
      ]
     },
     "execution_count": 10,
     "metadata": {},
     "output_type": "execute_result"
    }
   ],
   "source": [
    "gbt_model.extractParamMap()"
   ]
  },
  {
   "cell_type": "code",
   "execution_count": 11,
   "metadata": {
    "execution": {
     "iopub.execute_input": "2023-06-06T14:54:34.065358Z",
     "iopub.status.busy": "2023-06-06T14:54:34.065189Z",
     "iopub.status.idle": "2023-06-06T14:55:32.878015Z",
     "shell.execute_reply": "2023-06-06T14:55:32.877464Z",
     "shell.execute_reply.started": "2023-06-06T14:54:34.065337Z"
    },
    "tags": []
   },
   "outputs": [
    {
     "name": "stderr",
     "output_type": "stream",
     "text": [
      "IOPub message rate exceeded.\n",
      "The Jupyter server will temporarily stop sending output\n",
      "to the client in order to avoid crashing it.\n",
      "To change this limit, set the config variable\n",
      "`--ServerApp.iopub_msg_rate_limit`.\n",
      "\n",
      "Current values:\n",
      "ServerApp.iopub_msg_rate_limit=1000.0 (msgs/sec)\n",
      "ServerApp.rate_limit_window=3.0 (secs)\n",
      "\n"
     ]
    },
    {
     "data": {
      "image/png": "[encoded data removed]",
      "text/plain": [
       "<Figure size 432x288 with 1 Axes>"
      ]
     },
     "metadata": {
      "needs_background": "light"
     },
     "output_type": "display_data"
    }
   ],
   "source": [
    "#make ROC curve\n",
    "drawROC(result)"
   ]
  },
  {
   "cell_type": "code",
   "execution_count": 12,
   "metadata": {
    "execution": {
     "iopub.execute_input": "2023-06-06T14:55:32.879164Z",
     "iopub.status.busy": "2023-06-06T14:55:32.878987Z",
     "iopub.status.idle": "2023-06-06T14:55:33.480197Z",
     "shell.execute_reply": "2023-06-06T14:55:33.479622Z",
     "shell.execute_reply.started": "2023-06-06T14:55:32.879143Z"
    },
    "tags": []
   },
   "outputs": [
    {
     "data": {
      "image/png": "[encoded data removed]",
      "text/plain": [
       "<Figure size 576x720 with 1 Axes>"
      ]
     },
     "metadata": {
      "needs_background": "light"
     },
     "output_type": "display_data"
    }
   ],
   "source": [
    "#plot features vs importance\n",
    "drawFeatures(feature, gbt_model)"
   ]
  },
  {
   "cell_type": "code",
   "execution_count": 13,
   "metadata": {
    "execution": {
     "iopub.execute_input": "2023-06-06T14:55:33.481330Z",
     "iopub.status.busy": "2023-06-06T14:55:33.481167Z",
     "iopub.status.idle": "2023-06-06T14:56:25.450220Z",
     "shell.execute_reply": "2023-06-06T14:56:25.449452Z",
     "shell.execute_reply.started": "2023-06-06T14:55:33.481309Z"
    },
    "tags": []
   },
   "outputs": [
    {
     "data": {
      "image/png": "[encoded data removed]",
      "text/plain": [
       "<Figure size 432x288 with 1 Axes>"
      ]
     },
     "metadata": {
      "needs_background": "light"
     },
     "output_type": "display_data"
    }
   ],
   "source": [
    "#plot signal vs background with prediction\n",
    "plotSignalvsBgWithPrediction(test, result, 'm_bb')"
   ]
  },
  {
   "cell_type": "markdown",
   "metadata": {},
   "source": [
    "# Exercise 2\n",
    "\n",
    "- try to change the hyperparameters of the GBT model (maxIter=50, maxDepth=10), and check what changes in terms of performances, feature importance, signal versus background separation. Be careful of training time if you increase them too much!"
   ]
  },
  {
   "cell_type": "markdown",
   "metadata": {},
   "source": [
    "# Hyperparameter scan\n",
    "\n",
    "- documentation: https://spark.apache.org/docs/latest/ml-tuning.html"
   ]
  },
  {
   "cell_type": "code",
   "execution_count": 14,
   "metadata": {
    "execution": {
     "iopub.execute_input": "2023-06-06T14:56:25.451679Z",
     "iopub.status.busy": "2023-06-06T14:56:25.451495Z",
     "iopub.status.idle": "2023-06-06T14:56:28.726298Z",
     "shell.execute_reply": "2023-06-06T14:56:28.724649Z",
     "shell.execute_reply.started": "2023-06-06T14:56:25.451656Z"
    },
    "tags": []
   },
   "outputs": [
    {
     "name": "stdout",
     "output_type": "stream",
     "text": [
      "We will use 763644 events for the grid search\n"
     ]
    }
   ],
   "source": [
    "#reduce number of events for training if needed\n",
    "subSample = train.sample(fraction=1.0/10, withReplacement=False).cache()\n",
    "print('We will use ' +str(subSample.count()) + ' events for the grid search')"
   ]
  },
  {
   "cell_type": "code",
   "execution_count": 15,
   "metadata": {
    "execution": {
     "iopub.execute_input": "2023-06-06T14:56:28.729026Z",
     "iopub.status.busy": "2023-06-06T14:56:28.728665Z",
     "iopub.status.idle": "2023-06-06T14:56:28.773861Z",
     "shell.execute_reply": "2023-06-06T14:56:28.773114Z",
     "shell.execute_reply.started": "2023-06-06T14:56:28.728983Z"
    },
    "tags": []
   },
   "outputs": [],
   "source": [
    "#Do hyperparameter tuning \n",
    "from pyspark.ml.tuning import ParamGridBuilder, CrossValidator, TrainValidationSplit\n",
    "from pyspark.ml.evaluation import BinaryClassificationEvaluator\n",
    "\n",
    "gbt = GBTClassifier(labelCol='label', featuresCol='features', maxIter=10, maxDepth=3)\n",
    "\n",
    "evaluator=BinaryClassificationEvaluator(metricName='areaUnderROC')\n",
    "\n",
    "#choose hyperparameter space\n",
    "paramGrid = ParamGridBuilder()\\\n",
    "  .addGrid(gbt.maxDepth, [1,5])\\\n",
    "  .addGrid(gbt.maxIter, [10,20])\\\n",
    "  .build()"
   ]
  },
  {
   "cell_type": "markdown",
   "metadata": {},
   "source": [
    "# Exercise 3\n",
    "\n",
    "- try implementing the cross validation method, and describe what changes (results, training time, performances, ...): do you get the same hyper-parameters?"
   ]
  },
  {
   "cell_type": "code",
   "execution_count": 16,
   "metadata": {
    "execution": {
     "iopub.execute_input": "2023-06-06T14:56:28.775320Z",
     "iopub.status.busy": "2023-06-06T14:56:28.774983Z",
     "iopub.status.idle": "2023-06-06T14:56:28.801783Z",
     "shell.execute_reply": "2023-06-06T14:56:28.801261Z",
     "shell.execute_reply.started": "2023-06-06T14:56:28.775293Z"
    },
    "tags": []
   },
   "outputs": [],
   "source": [
    "# n k cross validation (takes 6-8 minutes)\n",
    "cv = CrossValidator(estimator=gbt, \n",
    "                    evaluator=evaluator,\n",
    "                    estimatorParamMaps=paramGrid,\n",
    "                    numFolds=10, parallelism=num_workers)  #increase numFolds carefully, tipycally this would be 3 or 10"
   ]
  },
  {
   "cell_type": "code",
   "execution_count": 17,
   "metadata": {
    "execution": {
     "iopub.execute_input": "2023-06-06T14:56:28.804322Z",
     "iopub.status.busy": "2023-06-06T14:56:28.803684Z",
     "iopub.status.idle": "2023-06-06T14:56:28.840264Z",
     "shell.execute_reply": "2023-06-06T14:56:28.839641Z",
     "shell.execute_reply.started": "2023-06-06T14:56:28.804258Z"
    },
    "tags": []
   },
   "outputs": [],
   "source": [
    "#or (takes 1-2 minutes)\n",
    "tvs = TrainValidationSplit(estimator=gbt,\n",
    "                           estimatorParamMaps=paramGrid,\n",
    "                           evaluator=evaluator,\n",
    "                           trainRatio=0.8)# 80% of the data will be used for training, 20% for validation"
   ]
  },
  {
   "cell_type": "markdown",
   "metadata": {},
   "source": [
    "**TIP:** after starting the following cell, close the Spark monitoring window or it will slow down your notebook display considerably."
   ]
  },
  {
   "cell_type": "code",
   "execution_count": 18,
   "metadata": {
    "execution": {
     "iopub.execute_input": "2023-06-06T14:56:28.841430Z",
     "iopub.status.busy": "2023-06-06T14:56:28.841263Z",
     "iopub.status.idle": "2023-06-06T15:12:42.260300Z",
     "shell.execute_reply": "2023-06-06T15:12:42.259440Z",
     "shell.execute_reply.started": "2023-06-06T14:56:28.841408Z"
    },
    "tags": []
   },
   "outputs": [
    {
     "name": "stdout",
     "output_type": "stream",
     "text": [
      "CPU times: user 57.5 s, sys: 14.7 s, total: 1min 12s\n",
      "Wall time: 16min 13s\n"
     ]
    }
   ],
   "source": [
    "#take care, might take long time, \n",
    "#%time bestModel = cv.fit(subSample)\n",
    "%time bestModel = tvs.fit(subSample)"
   ]
  },
  {
   "cell_type": "code",
   "execution_count": 19,
   "metadata": {
    "execution": {
     "iopub.execute_input": "2023-06-06T15:12:42.262796Z",
     "iopub.status.busy": "2023-06-06T15:12:42.262429Z",
     "iopub.status.idle": "2023-06-06T15:12:42.313275Z",
     "shell.execute_reply": "2023-06-06T15:12:42.312719Z",
     "shell.execute_reply.started": "2023-06-06T15:12:42.262749Z"
    },
    "tags": []
   },
   "outputs": [
    {
     "name": "stdout",
     "output_type": "stream",
     "text": [
      "maxDepth = 5\n",
      "maxIter = 20\n"
     ]
    }
   ],
   "source": [
    "#It is possile to see the score obtained (in this case the AUC) for each set of parameters\n",
    "#zip(bestModel.avgMetrics, paramGrid)\n",
    "\n",
    "print('maxDepth = '+str(bestModel.bestModel._java_obj.getMaxDepth()))\n",
    "print('maxIter = '+str(bestModel.bestModel._java_obj.getMaxIter()))"
   ]
  },
  {
   "cell_type": "code",
   "execution_count": 20,
   "metadata": {
    "execution": {
     "iopub.execute_input": "2023-06-06T15:12:42.314422Z",
     "iopub.status.busy": "2023-06-06T15:12:42.314262Z",
     "iopub.status.idle": "2023-06-06T15:12:52.673034Z",
     "shell.execute_reply": "2023-06-06T15:12:52.672088Z",
     "shell.execute_reply.started": "2023-06-06T15:12:42.314401Z"
    },
    "tags": []
   },
   "outputs": [
    {
     "name": "stdout",
     "output_type": "stream",
     "text": [
      "Test set AUC = 0.7784685211857874\n"
     ]
    }
   ],
   "source": [
    "# compute accuracy on the test set\n",
    "result = bestModel.transform(test)\n",
    "\n",
    "evaluator = BinaryClassificationEvaluator(labelCol='label', metricName=\"areaUnderROC\")\n",
    "print(\"Test set AUC = \" + str(evaluator.evaluate(result)))"
   ]
  },
  {
   "cell_type": "code",
   "execution_count": 21,
   "metadata": {
    "execution": {
     "iopub.execute_input": "2023-06-06T15:12:52.675434Z",
     "iopub.status.busy": "2023-06-06T15:12:52.674853Z",
     "iopub.status.idle": "2023-06-06T15:13:57.445136Z",
     "shell.execute_reply": "2023-06-06T15:13:57.409239Z",
     "shell.execute_reply.started": "2023-06-06T15:12:52.675361Z"
    },
    "tags": []
   },
   "outputs": [
    {
     "name": "stderr",
     "output_type": "stream",
     "text": [
      "IOPub message rate exceeded.\n",
      "The Jupyter server will temporarily stop sending output\n",
      "to the client in order to avoid crashing it.\n",
      "To change this limit, set the config variable\n",
      "`--ServerApp.iopub_msg_rate_limit`.\n",
      "\n",
      "Current values:\n",
      "ServerApp.iopub_msg_rate_limit=1000.0 (msgs/sec)\n",
      "ServerApp.rate_limit_window=3.0 (secs)\n",
      "\n"
     ]
    },
    {
     "data": {
      "image/png": "[encoded data removed]",
      "text/plain": [
       "<Figure size 432x288 with 1 Axes>"
      ]
     },
     "metadata": {
      "needs_background": "light"
     },
     "output_type": "display_data"
    }
   ],
   "source": [
    "#make ROC curve with best model\n",
    "drawROC(result)"
   ]
  },
  {
   "cell_type": "code",
   "execution_count": 22,
   "metadata": {
    "execution": {
     "iopub.execute_input": "2023-06-06T15:13:57.457375Z",
     "iopub.status.busy": "2023-06-06T15:13:57.456937Z",
     "iopub.status.idle": "2023-06-06T15:14:24.893773Z",
     "shell.execute_reply": "2023-06-06T15:14:24.892819Z",
     "shell.execute_reply.started": "2023-06-06T15:13:57.457329Z"
    },
    "tags": []
   },
   "outputs": [
    {
     "data": {
      "image/png": "[encoded data removed]",
      "text/plain": [
       "<Figure size 432x288 with 1 Axes>"
      ]
     },
     "metadata": {
      "needs_background": "light"
     },
     "output_type": "display_data"
    }
   ],
   "source": [
    "#plot signal vs background with prediction\n",
    "plotSignalvsBgWithPrediction(test, result, 'm_bb')"
   ]
  },
  {
   "cell_type": "code",
   "execution_count": 23,
   "metadata": {
    "execution": {
     "iopub.execute_input": "2023-06-06T15:14:24.896105Z",
     "iopub.status.busy": "2023-06-06T15:14:24.895834Z",
     "iopub.status.idle": "2023-06-06T15:14:28.185264Z",
     "shell.execute_reply": "2023-06-06T15:14:28.183974Z",
     "shell.execute_reply.started": "2023-06-06T15:14:24.896070Z"
    },
    "tags": []
   },
   "outputs": [],
   "source": [
    "#when you're done, stop spark, this will release the resources you're using\n",
    "spark.stop()"
   ]
  }
 ],
 "metadata": {
  "kernelspec": {
   "display_name": "PySpark",
   "language": "python",
   "name": "pyspark"
  },
  "language_info": {
   "codemirror_mode": {
    "name": "ipython",
    "version": 3
   },
   "file_extension": ".py",
   "mimetype": "text/x-python",
   "name": "python",
   "nbconvert_exporter": "python",
   "pygments_lexer": "ipython3",
   "version": "3.9.7"
  },
  "sparkconnect": {
   "bundled_options": [],
   "list_of_options": []
  }
 },
 "nbformat": 4,
 "nbformat_minor": 4
}
