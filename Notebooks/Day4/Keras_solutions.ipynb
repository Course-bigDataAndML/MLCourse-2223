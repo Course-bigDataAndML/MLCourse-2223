{
 "cells": [
  {
   "cell_type": "markdown",
   "metadata": {},
   "source": [
    "# You'll learn\n",
    "\n",
    "## ML methods\n",
    "\n",
    "- Deep NN with keras\n",
    "\n",
    "Course [slides](https://Course-bigDataAndML/MLCourse-2223/blob/master/Slides/Day3/Big%20data%20science%20-%20Day%203%20-%202223.pdf)"
   ]
  },
  {
   "cell_type": "code",
   "execution_count": 1,
   "metadata": {
    "execution": {
     "iopub.execute_input": "2023-06-01T09:03:41.275902Z",
     "iopub.status.busy": "2023-06-01T09:03:41.275133Z",
     "iopub.status.idle": "2023-06-01T09:03:47.910409Z",
     "shell.execute_reply": "2023-06-01T09:03:47.908586Z",
     "shell.execute_reply.started": "2023-06-01T09:03:41.275703Z"
    },
    "tags": []
   },
   "outputs": [],
   "source": [
    "%reload_ext custom_magics\n",
    "\n",
    "#ignore warnings from Tensorflow\n",
    "import warnings\n",
    "warnings.simplefilter(action='ignore', category=FutureWarning)\n",
    "#warnings.simplefilter(action='ignore', category=DeprecationWarning)\n",
    "import tensorflow as tf\n",
    "#if type(tf.contrib) != type(tf): tf.contrib._warning = None\n",
    "tf.compat.v1.logging.set_verbosity(tf.compat.v1.logging.ERROR)\n",
    "\n",
    "import pandas as pd\n",
    "import numpy as np\n",
    "import matplotlib.pyplot as plt\n",
    "%matplotlib inline\n",
    "\n",
    "from pyspark.ml.feature import VectorAssembler\n",
    "\n",
    "#import Keras \n",
    "from tensorflow.keras.models import Sequential\n",
    "from tensorflow.keras.layers import Dense\n",
    "from tensorflow.keras.layers import Dropout\n",
    "from tensorflow.keras import regularizers\n",
    "from tensorflow.keras.optimizers import SGD, Adam\n",
    "from tensorflow.keras.callbacks import EarlyStopping\n",
    "\n",
    "np.random.seed(1337)  # for reproducibility\n",
    "\n",
    "# Check out these custom functions\n",
    "from custom_functions import *"
   ]
  },
  {
   "cell_type": "code",
   "execution_count": 2,
   "metadata": {
    "execution": {
     "iopub.execute_input": "2023-06-01T09:03:47.914485Z",
     "iopub.status.busy": "2023-06-01T09:03:47.913807Z",
     "iopub.status.idle": "2023-06-01T09:03:57.461996Z",
     "shell.execute_reply": "2023-06-01T09:03:57.461173Z",
     "shell.execute_reply.started": "2023-06-01T09:03:47.914412Z"
    },
    "tags": []
   },
   "outputs": [
    {
     "data": {
      "text/html": [
       "\n",
       "        <div>\n",
       "            <p><b>SparkContext</b></p>\n",
       "\n",
       "            <p><a href=\"http://jupyter-leggerf.jhub.svc.cluster.local:4040\">Spark UI</a></p>\n",
       "\n",
       "            <dl>\n",
       "              <dt>Version</dt>\n",
       "                <dd><code>v3.2.1</code></dd>\n",
       "              <dt>Master</dt>\n",
       "                <dd><code>k8s://https://192.168.2.39:6443</code></dd>\n",
       "              <dt>AppName</dt>\n",
       "                <dd><code>jupyter-leggerf</code></dd>\n",
       "            </dl>\n",
       "        </div>\n",
       "        "
      ],
      "text/plain": [
       "<SparkContext master=k8s://https://192.168.2.39:6443 appName=jupyter-leggerf>"
      ]
     },
     "execution_count": 2,
     "metadata": {},
     "output_type": "execute_result"
    }
   ],
   "source": [
    "num_workers=5\n",
    "spark=%sc $num_workers\n",
    "\n",
    "from pyspark.sql import SparkSession\n",
    "spark_session = SparkSession(spark)\n",
    "\n",
    "#check if spark is there\n",
    "spark"
   ]
  },
  {
   "cell_type": "markdown",
   "metadata": {},
   "source": [
    "Keras training is not distributed, therefore you cannot feed the largest data sample (10M) or python will go out of memory! This is already a big limitation.  \n",
    "\n",
    "Still we need spark to be able to read in the input data from HDFS"
   ]
  },
  {
   "cell_type": "code",
   "execution_count": 3,
   "metadata": {
    "execution": {
     "iopub.execute_input": "2023-06-01T09:03:57.463785Z",
     "iopub.status.busy": "2023-06-01T09:03:57.463525Z",
     "iopub.status.idle": "2023-06-01T09:04:06.874052Z",
     "shell.execute_reply": "2023-06-01T09:04:06.872668Z",
     "shell.execute_reply.started": "2023-06-01T09:03:57.463752Z"
    },
    "tags": []
   },
   "outputs": [
    {
     "name": "stdout",
     "output_type": "stream",
     "text": [
      "There are 979519 events\n"
     ]
    }
   ],
   "source": [
    "# read in input data\n",
    "\n",
    "#inputFile = 'hdfs://192.168.2.39/data/Higgs100k.parquet'\n",
    "inputFile = 'hdfs://192.168.2.39/data/Higgs1M.parquet'\n",
    "#inputFile = 'hdfs://192.168.2.39/data/Higgs10M.parquet' # too large, doesn't fit in memory\n",
    "\n",
    "df = spark_session.read.format('parquet').option('header', 'true').option('inferschema', 'true').load(inputFile)\n",
    "\n",
    "total_events = df.count()\n",
    "print('There are '+str(total_events)+' events')"
   ]
  },
  {
   "cell_type": "code",
   "execution_count": 4,
   "metadata": {
    "execution": {
     "iopub.execute_input": "2023-06-01T09:04:06.878494Z",
     "iopub.status.busy": "2023-06-01T09:04:06.877798Z",
     "iopub.status.idle": "2023-06-01T09:04:47.075302Z",
     "shell.execute_reply": "2023-06-01T09:04:47.074588Z",
     "shell.execute_reply.started": "2023-06-01T09:04:06.878426Z"
    },
    "tags": []
   },
   "outputs": [
    {
     "name": "stdout",
     "output_type": "stream",
     "text": [
      "Events for training 783632\n",
      "Events for validation 195887\n"
     ]
    }
   ],
   "source": [
    "#df.show()\n",
    "X, y, X_test, y_test = prepareData(df, 0.2)\n",
    "\n",
    "print('Events for training '+str(len(y)))\n",
    "print('Events for validation '+str(len(y_test)))"
   ]
  },
  {
   "cell_type": "code",
   "execution_count": 5,
   "metadata": {
    "execution": {
     "iopub.execute_input": "2023-06-01T09:04:47.076838Z",
     "iopub.status.busy": "2023-06-01T09:04:47.076647Z",
     "iopub.status.idle": "2023-06-01T09:04:47.609301Z",
     "shell.execute_reply": "2023-06-01T09:04:47.607740Z",
     "shell.execute_reply.started": "2023-06-01T09:04:47.076805Z"
    },
    "tags": []
   },
   "outputs": [],
   "source": [
    "# When you're done, stop spark\n",
    "spark.stop()"
   ]
  },
  {
   "cell_type": "markdown",
   "metadata": {},
   "source": [
    "# Exercise 1\n",
    "\n",
    "- documentation: https://keras.io/getting-started/sequential-model-guide/\n",
    "- Build (compile) a Keras Sequential model (call it *model*)\n",
    "  - 1 hidden layer  with 100 neurons, activation ReLU (put in the correct input_shape!)\n",
    "  - 1 ouput layer with activation sigmoid\n",
    "  - use Adam optimiser\n",
    "  - use binary_crossentropy loss\n",
    "  - use accuracy metrics "
   ]
  },
  {
   "cell_type": "code",
   "execution_count": 6,
   "metadata": {
    "execution": {
     "iopub.execute_input": "2023-06-01T09:04:47.612256Z",
     "iopub.status.busy": "2023-06-01T09:04:47.611555Z",
     "iopub.status.idle": "2023-06-01T09:04:47.696711Z",
     "shell.execute_reply": "2023-06-01T09:04:47.696042Z",
     "shell.execute_reply.started": "2023-06-01T09:04:47.612192Z"
    },
    "tags": []
   },
   "outputs": [],
   "source": [
    "# now let's first look at NN in keras\n",
    "\n",
    "# create the model\n",
    "model = Sequential()\n",
    "\n",
    "#baseline, 13m with 1M events, acc 74%, AUC 81\n",
    "model.add(Dense(100, activation='relu', input_shape=(28,)))\n",
    "model.add(Dense(1, activation='sigmoid'))\n",
    "opt = Adam()\n",
    "\n",
    "# Compile model\n",
    "model.compile(loss='binary_crossentropy', optimizer=opt, metrics=['accuracy'])"
   ]
  },
  {
   "cell_type": "code",
   "execution_count": 7,
   "metadata": {
    "execution": {
     "iopub.execute_input": "2023-06-01T09:04:47.698575Z",
     "iopub.status.busy": "2023-06-01T09:04:47.698175Z",
     "iopub.status.idle": "2023-06-01T09:04:47.706868Z",
     "shell.execute_reply": "2023-06-01T09:04:47.706285Z",
     "shell.execute_reply.started": "2023-06-01T09:04:47.698551Z"
    },
    "tags": []
   },
   "outputs": [],
   "source": [
    "# simple early stopping\n",
    "es = EarlyStopping(monitor='val_loss', mode='min', verbose=1, patience=10)"
   ]
  },
  {
   "cell_type": "code",
   "execution_count": 8,
   "metadata": {
    "execution": {
     "iopub.execute_input": "2023-06-01T09:04:47.707723Z",
     "iopub.status.busy": "2023-06-01T09:04:47.707575Z",
     "iopub.status.idle": "2023-06-01T09:19:08.447218Z",
     "shell.execute_reply": "2023-06-01T09:19:08.446095Z",
     "shell.execute_reply.started": "2023-06-01T09:04:47.707704Z"
    },
    "tags": []
   },
   "outputs": [
    {
     "name": "stdout",
     "output_type": "stream",
     "text": [
      "Epoch 1/50\n",
      "6123/6123 [==============================] - 17s 3ms/step - loss: 0.6199 - accuracy: 0.6542 - val_loss: 0.5967 - val_accuracy: 0.6807\n",
      "Epoch 2/50\n",
      "6123/6123 [==============================] - 16s 3ms/step - loss: 0.5890 - accuracy: 0.6872 - val_loss: 0.5857 - val_accuracy: 0.6950\n",
      "Epoch 3/50\n",
      "6123/6123 [==============================] - 16s 3ms/step - loss: 0.5775 - accuracy: 0.6965 - val_loss: 0.5765 - val_accuracy: 0.6954\n",
      "Epoch 4/50\n",
      "6123/6123 [==============================] - 16s 3ms/step - loss: 0.5704 - accuracy: 0.7020 - val_loss: 0.5682 - val_accuracy: 0.7036\n",
      "Epoch 5/50\n",
      "6123/6123 [==============================] - 17s 3ms/step - loss: 0.5642 - accuracy: 0.7072 - val_loss: 0.5628 - val_accuracy: 0.7070\n",
      "Epoch 6/50\n",
      "6123/6123 [==============================] - 17s 3ms/step - loss: 0.5589 - accuracy: 0.7113 - val_loss: 0.5578 - val_accuracy: 0.7131\n",
      "Epoch 7/50\n",
      "6123/6123 [==============================] - 18s 3ms/step - loss: 0.5545 - accuracy: 0.7145 - val_loss: 0.5562 - val_accuracy: 0.7159\n",
      "Epoch 8/50\n",
      "6123/6123 [==============================] - 18s 3ms/step - loss: 0.5508 - accuracy: 0.7174 - val_loss: 0.5498 - val_accuracy: 0.7193\n",
      "Epoch 9/50\n",
      "6123/6123 [==============================] - 17s 3ms/step - loss: 0.5483 - accuracy: 0.7192 - val_loss: 0.5480 - val_accuracy: 0.7199\n",
      "Epoch 10/50\n",
      "6123/6123 [==============================] - 17s 3ms/step - loss: 0.5464 - accuracy: 0.7207 - val_loss: 0.5471 - val_accuracy: 0.7207\n",
      "Epoch 11/50\n",
      "6123/6123 [==============================] - 18s 3ms/step - loss: 0.5444 - accuracy: 0.7220 - val_loss: 0.5520 - val_accuracy: 0.7140\n",
      "Epoch 12/50\n",
      "6123/6123 [==============================] - 17s 3ms/step - loss: 0.5426 - accuracy: 0.7235 - val_loss: 0.5455 - val_accuracy: 0.7230\n",
      "Epoch 13/50\n",
      "6123/6123 [==============================] - 17s 3ms/step - loss: 0.5415 - accuracy: 0.7240 - val_loss: 0.5474 - val_accuracy: 0.7174\n",
      "Epoch 14/50\n",
      "6123/6123 [==============================] - 17s 3ms/step - loss: 0.5403 - accuracy: 0.7252 - val_loss: 0.5409 - val_accuracy: 0.7251\n",
      "Epoch 15/50\n",
      "6123/6123 [==============================] - 17s 3ms/step - loss: 0.5390 - accuracy: 0.7254 - val_loss: 0.5376 - val_accuracy: 0.7276\n",
      "Epoch 16/50\n",
      "6123/6123 [==============================] - 17s 3ms/step - loss: 0.5381 - accuracy: 0.7266 - val_loss: 0.5389 - val_accuracy: 0.7264\n",
      "Epoch 17/50\n",
      "6123/6123 [==============================] - 17s 3ms/step - loss: 0.5371 - accuracy: 0.7271 - val_loss: 0.5411 - val_accuracy: 0.7251\n",
      "Epoch 18/50\n",
      "6123/6123 [==============================] - 17s 3ms/step - loss: 0.5366 - accuracy: 0.7277 - val_loss: 0.5357 - val_accuracy: 0.7281\n",
      "Epoch 19/50\n",
      "6123/6123 [==============================] - 17s 3ms/step - loss: 0.5355 - accuracy: 0.7282 - val_loss: 0.5388 - val_accuracy: 0.7252\n",
      "Epoch 20/50\n",
      "6123/6123 [==============================] - 17s 3ms/step - loss: 0.5350 - accuracy: 0.7286 - val_loss: 0.5365 - val_accuracy: 0.7266\n",
      "Epoch 21/50\n",
      "6123/6123 [==============================] - 17s 3ms/step - loss: 0.5349 - accuracy: 0.7289 - val_loss: 0.5383 - val_accuracy: 0.7267\n",
      "Epoch 22/50\n",
      "6123/6123 [==============================] - 17s 3ms/step - loss: 0.5339 - accuracy: 0.7295 - val_loss: 0.5367 - val_accuracy: 0.7275\n",
      "Epoch 23/50\n",
      "6123/6123 [==============================] - 17s 3ms/step - loss: 0.5334 - accuracy: 0.7299 - val_loss: 0.5367 - val_accuracy: 0.7280\n",
      "Epoch 24/50\n",
      "6123/6123 [==============================] - 18s 3ms/step - loss: 0.5331 - accuracy: 0.7300 - val_loss: 0.5367 - val_accuracy: 0.7280\n",
      "Epoch 25/50\n",
      "6123/6123 [==============================] - 17s 3ms/step - loss: 0.5327 - accuracy: 0.7301 - val_loss: 0.5333 - val_accuracy: 0.7296\n",
      "Epoch 26/50\n",
      "6123/6123 [==============================] - 17s 3ms/step - loss: 0.5324 - accuracy: 0.7302 - val_loss: 0.5340 - val_accuracy: 0.7274\n",
      "Epoch 27/50\n",
      "6123/6123 [==============================] - 17s 3ms/step - loss: 0.5319 - accuracy: 0.7309 - val_loss: 0.5354 - val_accuracy: 0.7273\n",
      "Epoch 28/50\n",
      "6123/6123 [==============================] - 17s 3ms/step - loss: 0.5313 - accuracy: 0.7310 - val_loss: 0.5328 - val_accuracy: 0.7297\n",
      "Epoch 29/50\n",
      "6123/6123 [==============================] - 18s 3ms/step - loss: 0.5313 - accuracy: 0.7309 - val_loss: 0.5333 - val_accuracy: 0.7298\n",
      "Epoch 30/50\n",
      "6123/6123 [==============================] - 18s 3ms/step - loss: 0.5307 - accuracy: 0.7315 - val_loss: 0.5401 - val_accuracy: 0.7262\n",
      "Epoch 31/50\n",
      "6123/6123 [==============================] - 17s 3ms/step - loss: 0.5306 - accuracy: 0.7313 - val_loss: 0.5346 - val_accuracy: 0.7275\n",
      "Epoch 32/50\n",
      "6123/6123 [==============================] - 17s 3ms/step - loss: 0.5303 - accuracy: 0.7318 - val_loss: 0.5352 - val_accuracy: 0.7269\n",
      "Epoch 33/50\n",
      "6123/6123 [==============================] - 17s 3ms/step - loss: 0.5301 - accuracy: 0.7316 - val_loss: 0.5329 - val_accuracy: 0.7294\n",
      "Epoch 34/50\n",
      "6123/6123 [==============================] - 18s 3ms/step - loss: 0.5298 - accuracy: 0.7321 - val_loss: 0.5344 - val_accuracy: 0.7274\n",
      "Epoch 35/50\n",
      "6123/6123 [==============================] - 18s 3ms/step - loss: 0.5296 - accuracy: 0.7321 - val_loss: 0.5304 - val_accuracy: 0.7309\n",
      "Epoch 36/50\n",
      "6123/6123 [==============================] - 17s 3ms/step - loss: 0.5292 - accuracy: 0.7325 - val_loss: 0.5326 - val_accuracy: 0.7288\n",
      "Epoch 37/50\n",
      "6123/6123 [==============================] - 17s 3ms/step - loss: 0.5290 - accuracy: 0.7324 - val_loss: 0.5308 - val_accuracy: 0.7310\n",
      "Epoch 38/50\n",
      "6123/6123 [==============================] - 17s 3ms/step - loss: 0.5288 - accuracy: 0.7323 - val_loss: 0.5374 - val_accuracy: 0.7236\n",
      "Epoch 39/50\n",
      "6123/6123 [==============================] - 18s 3ms/step - loss: 0.5285 - accuracy: 0.7331 - val_loss: 0.5352 - val_accuracy: 0.7259\n",
      "Epoch 40/50\n",
      "6123/6123 [==============================] - 17s 3ms/step - loss: 0.5285 - accuracy: 0.7330 - val_loss: 0.5303 - val_accuracy: 0.7319\n",
      "Epoch 41/50\n",
      "6123/6123 [==============================] - 17s 3ms/step - loss: 0.5283 - accuracy: 0.7329 - val_loss: 0.5296 - val_accuracy: 0.7320\n",
      "Epoch 42/50\n",
      "6123/6123 [==============================] - 17s 3ms/step - loss: 0.5281 - accuracy: 0.7328 - val_loss: 0.5310 - val_accuracy: 0.7320\n",
      "Epoch 43/50\n",
      "6123/6123 [==============================] - 17s 3ms/step - loss: 0.5281 - accuracy: 0.7333 - val_loss: 0.5349 - val_accuracy: 0.7260\n",
      "Epoch 44/50\n",
      "6123/6123 [==============================] - 17s 3ms/step - loss: 0.5278 - accuracy: 0.7332 - val_loss: 0.5323 - val_accuracy: 0.7289\n",
      "Epoch 45/50\n",
      "6123/6123 [==============================] - 17s 3ms/step - loss: 0.5275 - accuracy: 0.7335 - val_loss: 0.5309 - val_accuracy: 0.7299\n",
      "Epoch 46/50\n",
      "6123/6123 [==============================] - 17s 3ms/step - loss: 0.5274 - accuracy: 0.7337 - val_loss: 0.5311 - val_accuracy: 0.7306\n",
      "Epoch 47/50\n",
      "6123/6123 [==============================] - 17s 3ms/step - loss: 0.5273 - accuracy: 0.7340 - val_loss: 0.5343 - val_accuracy: 0.7291\n",
      "Epoch 48/50\n",
      "6123/6123 [==============================] - 17s 3ms/step - loss: 0.5273 - accuracy: 0.7336 - val_loss: 0.5305 - val_accuracy: 0.7324\n",
      "Epoch 49/50\n",
      "6123/6123 [==============================] - 17s 3ms/step - loss: 0.5271 - accuracy: 0.7335 - val_loss: 0.5302 - val_accuracy: 0.7315\n",
      "Epoch 50/50\n",
      "6123/6123 [==============================] - 18s 3ms/step - loss: 0.5269 - accuracy: 0.7338 - val_loss: 0.5314 - val_accuracy: 0.7309\n",
      "CPU times: user 34min 17s, sys: 14min 28s, total: 48min 46s\n",
      "Wall time: 14min 20s\n"
     ]
    }
   ],
   "source": [
    "%%time\n",
    "history = model.fit(X, y, batch_size=128, epochs=50, validation_data=(X_test, y_test), callbacks=[es]) #, verbose=0)"
   ]
  },
  {
   "cell_type": "code",
   "execution_count": 9,
   "metadata": {
    "execution": {
     "iopub.execute_input": "2023-06-01T09:19:08.450889Z",
     "iopub.status.busy": "2023-06-01T09:19:08.450412Z",
     "iopub.status.idle": "2023-06-01T09:19:08.675577Z",
     "shell.execute_reply": "2023-06-01T09:19:08.674749Z",
     "shell.execute_reply.started": "2023-06-01T09:19:08.450842Z"
    },
    "tags": []
   },
   "outputs": [
    {
     "data": {
      "image/png": "[encoded data removed]",
      "text/plain": [
       "<Figure size 432x288 with 1 Axes>"
      ]
     },
     "metadata": {
      "needs_background": "light"
     },
     "output_type": "display_data"
    }
   ],
   "source": [
    "plotVsEpoch(history, 'loss')"
   ]
  },
  {
   "cell_type": "code",
   "execution_count": 10,
   "metadata": {
    "execution": {
     "iopub.execute_input": "2023-06-01T09:19:08.678364Z",
     "iopub.status.busy": "2023-06-01T09:19:08.678132Z",
     "iopub.status.idle": "2023-06-01T09:19:08.814118Z",
     "shell.execute_reply": "2023-06-01T09:19:08.812575Z",
     "shell.execute_reply.started": "2023-06-01T09:19:08.678334Z"
    },
    "tags": []
   },
   "outputs": [
    {
     "data": {
      "image/png": "[encoded data removed]",
      "text/plain": [
       "<Figure size 432x288 with 1 Axes>"
      ]
     },
     "metadata": {
      "needs_background": "light"
     },
     "output_type": "display_data"
    }
   ],
   "source": [
    "plotVsEpoch(history, 'accuracy')"
   ]
  },
  {
   "cell_type": "code",
   "execution_count": 11,
   "metadata": {
    "execution": {
     "iopub.execute_input": "2023-06-01T09:19:08.816817Z",
     "iopub.status.busy": "2023-06-01T09:19:08.816197Z",
     "iopub.status.idle": "2023-06-01T09:19:08.825355Z",
     "shell.execute_reply": "2023-06-01T09:19:08.823987Z",
     "shell.execute_reply.started": "2023-06-01T09:19:08.816754Z"
    },
    "tags": []
   },
   "outputs": [
    {
     "name": "stdout",
     "output_type": "stream",
     "text": [
      "{'verbose': 1, 'epochs': 50, 'steps': 6123}\n",
      "dict_keys(['loss', 'accuracy', 'val_loss', 'val_accuracy'])\n"
     ]
    }
   ],
   "source": [
    "print(history.params)\n",
    "print(history.history.keys())\n"
   ]
  },
  {
   "cell_type": "code",
   "execution_count": 12,
   "metadata": {
    "execution": {
     "iopub.execute_input": "2023-06-01T09:19:08.827866Z",
     "iopub.status.busy": "2023-06-01T09:19:08.827305Z",
     "iopub.status.idle": "2023-06-01T09:19:08.865171Z",
     "shell.execute_reply": "2023-06-01T09:19:08.864160Z",
     "shell.execute_reply.started": "2023-06-01T09:19:08.827806Z"
    },
    "tags": []
   },
   "outputs": [
    {
     "name": "stdout",
     "output_type": "stream",
     "text": [
      "Model: \"sequential\"\n",
      "_________________________________________________________________\n",
      " Layer (type)                Output Shape              Param #   \n",
      "=================================================================\n",
      " dense (Dense)               (None, 100)               2900      \n",
      "                                                                 \n",
      " dense_1 (Dense)             (None, 1)                 101       \n",
      "                                                                 \n",
      "=================================================================\n",
      "Total params: 3,001\n",
      "Trainable params: 3,001\n",
      "Non-trainable params: 0\n",
      "_________________________________________________________________\n"
     ]
    }
   ],
   "source": [
    "model.summary()"
   ]
  },
  {
   "cell_type": "code",
   "execution_count": 13,
   "metadata": {
    "execution": {
     "iopub.execute_input": "2023-06-01T09:19:08.867338Z",
     "iopub.status.busy": "2023-06-01T09:19:08.866937Z",
     "iopub.status.idle": "2023-06-01T09:19:14.696067Z",
     "shell.execute_reply": "2023-06-01T09:19:14.695378Z",
     "shell.execute_reply.started": "2023-06-01T09:19:08.867302Z"
    },
    "tags": []
   },
   "outputs": [
    {
     "data": {
      "image/png": "[encoded data removed]",
      "text/plain": [
       "<Figure size 432x288 with 1 Axes>"
      ]
     },
     "metadata": {
      "needs_background": "light"
     },
     "output_type": "display_data"
    }
   ],
   "source": [
    "# apply model to get predictions on test set\n",
    "y_pred = model.predict(X_test)\n",
    "\n",
    "#draw ROC\n",
    "drawROC2(y_test, y_pred)"
   ]
  },
  {
   "cell_type": "code",
   "execution_count": 14,
   "metadata": {
    "execution": {
     "iopub.execute_input": "2023-06-01T09:19:14.697189Z",
     "iopub.status.busy": "2023-06-01T09:19:14.697008Z",
     "iopub.status.idle": "2023-06-01T09:19:15.987406Z",
     "shell.execute_reply": "2023-06-01T09:19:15.986715Z",
     "shell.execute_reply.started": "2023-06-01T09:19:14.697166Z"
    },
    "tags": []
   },
   "outputs": [
    {
     "data": {
      "image/png": "[encoded data removed]",
      "text/plain": [
       "<Figure size 432x288 with 1 Axes>"
      ]
     },
     "metadata": {
      "needs_background": "light"
     },
     "output_type": "display_data"
    }
   ],
   "source": [
    "#do signal vs background plot\n",
    "x_test = X_test[:,25]\n",
    "variable = 'm_bb'\n",
    "\n",
    "plotSignalvsBgWithPrediction2(x_test, y_test, y_pred, variable)"
   ]
  },
  {
   "cell_type": "markdown",
   "metadata": {},
   "source": [
    "# Exercise 2\n",
    "\n",
    "- play with the model parameters and see if you can improve the performances (try to add hidden layers)\n",
    "- try to increase the number of epochs for training, is the model improving?\n",
    "- how is training time affected by the number of parameters?\n",
    "- how is signal versus background separation affected (check different variables)"
   ]
  }
 ],
 "metadata": {
  "kernelspec": {
   "display_name": "PySpark",
   "language": "python",
   "name": "pyspark"
  },
  "language_info": {
   "codemirror_mode": {
    "name": "ipython",
    "version": 3
   },
   "file_extension": ".py",
   "mimetype": "text/x-python",
   "name": "python",
   "nbconvert_exporter": "python",
   "pygments_lexer": "ipython3",
   "version": "3.9.7"
  },
  "sparkconnect": {
   "bundled_options": [],
   "list_of_options": [
    {
     "name": "spark.driver.maxResultSize",
     "value": "0"
    }
   ]
  }
 },
 "nbformat": 4,
 "nbformat_minor": 4
}
